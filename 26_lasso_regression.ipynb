{
 "cells": [
  {
   "cell_type": "markdown",
   "metadata": {},
   "source": [
    "# Lasso Regression\n",
    "\n",
    "Lasso regression is a type of linear regression that uses shrinkage. Shrinkage is where data values are shrunk towards a central point, like the mean. The lasso procedure encourages simple, sparse models (i.e. models with fewer parameters). This particular type of regression is well-suited for models showing high levels of multicollinearity or when you want to automate certain parts of model selection, like variable selection/parameter elimination.\n",
    "\n",
    "The lasso procedure is useful in some contexts due to its tendency to prefer solutions with fewer parameter values, effectively reducing the number of variables upon which the given solution is dependent. This can be useful in situations where there are a large number of variables compared to the number of observations, or when dealing with very large datasets.\n",
    "\n",
    "In summary, the lasso regression is a type of linear regression that uses shrinkage. Shrinkage is where data values are shrunk towards a central point, like the mean. The lasso procedure encourages simple, sparse models (i.e. models with fewer parameters).\n",
    "\n",
    "The formula of Lasso Regression is given by:\n",
    "\n",
    "$$\\text{Lasso Regression} = \\sum_{i=1}^{n} (y_i - \\hat{y}_i)^2 + \\lambda \\sum_{j=1}^{p} |\\beta_j|$$\n",
    "\n",
    "Where:\n",
    "\n",
    "- $y_i$ is the actual value of the dependent variable.\n",
    "- $\\hat{y}_i$ is the predicted value of the dependent variable.\n",
    "- $\\lambda$ is the penalty term.\n",
    "- $\\beta_j$ is the coefficient of the independent variable.\n",
    "\n",
    "\n",
    "### Key Concept\n",
    "\n",
    "The key concept of Lasso Regression is to add a penalty term to the loss function. The penalty term is the absolute value of the magnitude of the coefficients. This penalty term is multiplied by the penalty parameter $\\lambda$. \n",
    "\n",
    "\n",
    "### Advantages of Lasso Regression\n",
    "\n",
    "1. Lasso regression can be used to select important features of a dataset.\n",
    "2. Lasso regression can be used to reduce the complexity of the model.\n",
    "3. Lasso regression can be used to prevent overfitting.\n",
    "4. Lasso regression can be used to handle multicollinearity.\n",
    "\n",
    "### Disadvantages of Lasso Regression\n",
    "\n",
    "1. Lasso regression can be sensitive to outliers.\n",
    "2. Lasso regression can be computationally expensive.\n",
    "3. Lasso regression can be difficult to interpret.\n",
    "\n",
    "### Assumptions of Lasso Regression\n",
    "\n",
    "1. The relationship between the dependent variable and independent variables should be linear.\n",
    "2. The independent variables should not be correlated with each other.\n",
    "3. The residuals should be normally distributed.\n",
    "4. The residuals should be homoscedastic.\n",
    "\n"
   ]
  },
  {
   "cell_type": "code",
   "execution_count": 30,
   "metadata": {},
   "outputs": [],
   "source": [
    "# Libraries for Lasso Regression\n",
    "from sklearn.datasets import make_regression\n",
    "from sklearn.linear_model import Lasso, Ridge\n",
    "from sklearn.model_selection import train_test_split\n",
    "from sklearn.metrics import mean_squared_error"
   ]
  },
  {
   "cell_type": "code",
   "execution_count": 31,
   "metadata": {},
   "outputs": [
    {
     "name": "stdout",
     "output_type": "stream",
     "text": [
      "Mean Squared Error of Lasso Regression: 0.046068277743981895\n",
      "Mean Squared Error of Ridge Regression: 0.010184722756408908\n"
     ]
    }
   ],
   "source": [
    "X, y = make_regression(n_samples=10000, n_features=4, noise=0.1)\n",
    "X_train, X_test, y_train, y_test = train_test_split(X, y, test_size=0.9)\n",
    "\n",
    "lasso = Lasso(alpha=0.1)\n",
    "ridge = Ridge(alpha=0.1)\n",
    "\n",
    "lasso.fit(X_train, y_train)\n",
    "ridge.fit(X_train, y_train)\n",
    "\n",
    "y_pred_lasso = lasso.predict(X_test)\n",
    "y_pred_ridge = ridge.predict(X_test)\n",
    "\n",
    "print('Mean Squared Error of Lasso Regression:', mean_squared_error(y_test, y_pred_lasso))\n",
    "print('Mean Squared Error of Ridge Regression:', mean_squared_error(y_test, y_pred_ridge))"
   ]
  }
 ],
 "metadata": {
  "kernelspec": {
   "display_name": "python_ml",
   "language": "python",
   "name": "python3"
  },
  "language_info": {
   "codemirror_mode": {
    "name": "ipython",
    "version": 3
   },
   "file_extension": ".py",
   "mimetype": "text/x-python",
   "name": "python",
   "nbconvert_exporter": "python",
   "pygments_lexer": "ipython3",
   "version": "3.11.10"
  }
 },
 "nbformat": 4,
 "nbformat_minor": 2
}
