{
 "cells": [
  {
   "cell_type": "markdown",
   "metadata": {},
   "source": [
    "# Best Model Selection"
   ]
  },
  {
   "cell_type": "markdown",
   "metadata": {},
   "source": [
    "To select the best model, when using multiple models in pipeline, we can use the technique of cross-validation and evaluation metrics to compare the performance of the models. Here is a simple example to demonstrate how to select the best model using cross-validation and evaluation metrics."
   ]
  },
  {
   "cell_type": "code",
   "execution_count": 11,
   "metadata": {},
   "outputs": [],
   "source": [
    "import pandas as pd \n",
    "import seaborn as sns\n",
    "from sklearn.model_selection import train_test_split, cross_val_score, GridSearchCV\n",
    "from sklearn.pipeline import Pipeline\n",
    "from sklearn.impute import SimpleImputer\n",
    "from sklearn.preprocessing import OneHotEncoder\n",
    "from sklearn.ensemble import RandomForestClassifier, GradientBoostingClassifier\n",
    "from xgboost import XGBClassifier\n",
    "from sklearn.metrics import accuracy_score"
   ]
  },
  {
   "cell_type": "code",
   "execution_count": 12,
   "metadata": {},
   "outputs": [
    {
     "name": "stdout",
     "output_type": "stream",
     "text": [
      "Model: XGBClassifier:\n",
      "Mean cross-validation score: 1.0\n",
      "Test accuracy: 1.0\n",
      "Best model: XGBClassifier(base_score=None, booster=None, callbacks=None,\n",
      "              colsample_bylevel=None, colsample_bynode=None,\n",
      "              colsample_bytree=None, device=None, early_stopping_rounds=None,\n",
      "              enable_categorical=False, eval_metric=None, feature_types=None,\n",
      "              gamma=None, grow_policy=None, importance_type=None,\n",
      "              interaction_constraints=None, learning_rate=None, max_bin=None,\n",
      "              max_cat_threshold=None, max_cat_to_onehot=None,\n",
      "              max_delta_step=None, max_depth=None, max_leaves=None,\n",
      "              min_child_weight=None, missing=nan, monotone_constraints=None,\n",
      "              multi_strategy=None, n_estimators=None, n_jobs=None,\n",
      "              num_parallel_tree=None, random_state=42, ...)\n"
     ]
    }
   ],
   "source": [
    "# Load the data\n",
    "titanic = sns.load_dataset('titanic')\n",
    "\n",
    "# Select the features and the target\n",
    "X = titanic[['pclass', 'age', 'sex', 'survived', 'embarked']]\n",
    "y = titanic['survived']\n",
    "\n",
    "# Split the data\n",
    "X_train, X_test, y_train, y_test = train_test_split(X, y, test_size=0.2, random_state=0)\n",
    "\n",
    "# create a list of models to evaluate\n",
    "models = [('RandomForestClassifier:', RandomForestClassifier(random_state=42)),\n",
    "          ('GradientBoostingClassifier:', GradientBoostingClassifier(random_state=42)),\n",
    "          ('XGBClassifier:', XGBClassifier(random_state=42))]\n",
    "\n",
    "best_model = None\n",
    "best_score = 0.0\n",
    "\n",
    "# Iterate over the models and evaluate the model\n",
    "\n",
    "for name, model in models:\n",
    "    # Create a pipeline\n",
    "    pipeline = Pipeline([('imputer', SimpleImputer(strategy='most_frequent')),\n",
    "                         ('encoder', OneHotEncoder(handle_unknown='ignore')),\n",
    "                         ('model', model)])\n",
    "\n",
    "# perform cross-validation\n",
    "scores = cross_val_score(pipeline, X_train, y_train, cv=5)\n",
    "\n",
    "# calculate the mean score\n",
    "mean_score = scores.mean()\n",
    "\n",
    "# fit the model\n",
    "pipeline.fit(X_train, y_train)\n",
    "\n",
    "# make predictions on the test set\n",
    "y_pred = pipeline.predict(X_test)\n",
    "\n",
    "# calculate the accuracy of the model\n",
    "accuracy = accuracy_score(y_test, y_pred)\n",
    "\n",
    "# print the performance of the metrics\n",
    "print('Model:', name)\n",
    "print('Mean cross-validation score:', mean_score)\n",
    "print('Test accuracy:', accuracy)\n",
    "\n",
    "# check if the accuracy of the current model has the best accuracy\n",
    "if accuracy > best_score:\n",
    "    best_score = accuracy\n",
    "    best_model = model\n",
    "\n",
    "# retrieve the best model\n",
    "print('Best model:', best_model)"
   ]
  }
 ],
 "metadata": {
  "kernelspec": {
   "display_name": "python_ml",
   "language": "python",
   "name": "python3"
  },
  "language_info": {
   "codemirror_mode": {
    "name": "ipython",
    "version": 3
   },
   "file_extension": ".py",
   "mimetype": "text/x-python",
   "name": "python",
   "nbconvert_exporter": "python",
   "pygments_lexer": "ipython3",
   "version": "3.11.10"
  }
 },
 "nbformat": 4,
 "nbformat_minor": 2
}
